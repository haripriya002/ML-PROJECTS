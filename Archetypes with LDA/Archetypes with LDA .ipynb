{
 "cells": [
  {
   "cell_type": "code",
   "execution_count": 1,
   "id": "7c6e053b",
   "metadata": {},
   "outputs": [
    {
     "data": {
      "text/plain": [
       "13234"
      ]
     },
     "execution_count": 1,
     "metadata": {},
     "output_type": "execute_result"
    }
   ],
   "source": [
    "#data cleansing\n",
    "import re\n",
    "string = open('DEEP_TEXT.txt',encoding='utf-8').read()\n",
    "new_str = re.sub('[^a-zA-Z0-9\\n\\.]', ' ', string) # Removing non numeric / Non Alphabet and scpecial charatcers\n",
    "final=re.sub(r'[^\\w\\s]', '', new_str) # Removing punctuations\n",
    "\n",
    "open('cleansedfile1.txt', 'w').write(final)"
   ]
  },
  {
   "cell_type": "code",
   "execution_count": null,
   "id": "e6821892",
   "metadata": {},
   "outputs": [],
   "source": [
    "#Lemmatization\n",
    "import spacy\n",
    "nlp=spacy.load('en_core_web_md',disable=['parser','ner'])\n",
    "output =[]\n",
    "allowed_postags=['NOUN','ADJ']\n",
    "for line in open('cleansedfile1.txt',encoding=\"utf8\"):\n",
    "    doc=nlp(line)\n",
    "    output.append([token.lemma_ for token in doc if token.pos_ in allowed_postags])"
   ]
  },
  {
   "cell_type": "code",
   "execution_count": null,
   "id": "53eea191",
   "metadata": {},
   "outputs": [],
   "source": [
    "#Dictionary Creation\n",
    "import gensim\n",
    "import re \n",
    "from six import iteritems\n",
    "dictionary=gensim.corpora.Dictionary(output)\n",
    "dictionary.compactify()\n",
    "doc_term_matrix = [dictionary.doc2bow(rev) for rev in output ]"
   ]
  },
  {
   "cell_type": "code",
   "execution_count": null,
   "id": "4c55aadf",
   "metadata": {},
   "outputs": [],
   "source": [
    "#printing no of unique words\n",
    "unique_cards = len(dictionary.keys())\n",
    "print(unique_cards)"
   ]
  },
  {
   "cell_type": "code",
   "execution_count": null,
   "id": "91878f5b",
   "metadata": {},
   "outputs": [],
   "source": [
    "import numpy as np"
   ]
  },
  {
   "cell_type": "code",
   "execution_count": null,
   "id": "485be7cf",
   "metadata": {},
   "outputs": [],
   "source": [
    "#defining the no of archetypes \n",
    "archetypes = 15"
   ]
  },
  {
   "cell_type": "code",
   "execution_count": null,
   "id": "8117a7b5",
   "metadata": {},
   "outputs": [],
   "source": [
    "np.random.seed(1)"
   ]
  },
  {
   "cell_type": "code",
   "execution_count": null,
   "id": "93dd96d8",
   "metadata": {},
   "outputs": [],
   "source": [
    "\n",
    "alpha_prior = [1.0 / archetypes] * archetypes\n",
    "beta_prior = [1.0 / archetypes] * unique_cards"
   ]
  },
  {
   "cell_type": "code",
   "execution_count": null,
   "id": "d15a105b",
   "metadata": {},
   "outputs": [],
   "source": [
    "iterations = 15\n",
    "lda = gensim.models.ldamodel.LdaModel(corpus=doc_term_matrix, id2word=dictionary, num_topics=archetypes, passes=iterations, alpha = alpha_prior, eta = beta_prior)"
   ]
  },
  {
   "cell_type": "code",
   "execution_count": null,
   "id": "fb9a1d15",
   "metadata": {},
   "outputs": [],
   "source": [
    "import csv\n",
    "number_of_top_cards = 10\n",
    "archetypes_to_inspect =15\n",
    "with open('DEEP_TEXT.csv', 'w') as f:\n",
    "    for i in range(archetypes_to_inspect):\n",
    "        print((\"Archetype %i \\n %s \\n\") % (i, lda.print_topic(i, topn=number_of_top_cards)),file=f)"
   ]
  },
  {
   "cell_type": "code",
   "execution_count": null,
   "id": "0388762c",
   "metadata": {},
   "outputs": [],
   "source": []
  }
 ],
 "metadata": {
  "kernelspec": {
   "display_name": "Python 3 (ipykernel)",
   "language": "python",
   "name": "python3"
  },
  "language_info": {
   "codemirror_mode": {
    "name": "ipython",
    "version": 3
   },
   "file_extension": ".py",
   "mimetype": "text/x-python",
   "name": "python",
   "nbconvert_exporter": "python",
   "pygments_lexer": "ipython3",
   "version": "3.9.7"
  }
 },
 "nbformat": 4,
 "nbformat_minor": 5
}
